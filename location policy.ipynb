{
 "cells": [
  {
   "cell_type": "markdown",
   "metadata": {},
   "source": [
    "# Checking Location Usage Policy of a Container\n",
    "for this example we will be using `rdflib` which can be installed using pip\n",
    "\n",
    "`pip install rdflib`\n",
    "\n",
    "Since the usage policy contains a named graph, we will use `rdflib.ConjunctiveGraph` class instead of `rdflib.Graph`."
   ]
  },
  {
   "cell_type": "code",
   "execution_count": 1,
   "metadata": {},
   "outputs": [],
   "source": [
    "from rdflib import ConjunctiveGraph, Namespace, RDF, RDFS, OWL, URIRef"
   ]
  },
  {
   "cell_type": "markdown",
   "metadata": {},
   "source": [
    "In order to access Usage Policy of a semantic container, we access via API on `/api/meta/usage` which will return a usage policy in RDF graph (using `trig` serialization format)\n",
    "\n",
    "For convenience in querying an RDF Graph, we define some Namespace which we will bind it to some prefixes in the graph later on."
   ]
  },
  {
   "cell_type": "code",
   "execution_count": 17,
   "metadata": {},
   "outputs": [],
   "source": [
    "#SEMCON_URL = \"https://vownyourdata.zamg.ac.at:9600/api/meta/\"\n",
    "SEMCON_URL = \"https://vownyourdata.zamg.ac.at:9505/api/meta/\"\n",
    "\n",
    "SC_FILE = Namespace(SEMCON_URL)\n",
    "SCO = Namespace(\"http://w3id.org/semcon/ns/ontology#\")\n",
    "SPL = Namespace(\"http://www.specialprivacy.eu/langs/usage-policy#\")\n",
    "SPL_LOC = Namespace(\"http://www.specialprivacy.eu/vocabs/locations#\")\n"
   ]
  },
  {
   "cell_type": "code",
   "execution_count": 18,
   "metadata": {},
   "outputs": [
    {
     "name": "stdout",
     "output_type": "stream",
     "text": [
      "40\n"
     ]
    }
   ],
   "source": [
    "g = ConjunctiveGraph()\n",
    "\n",
    "#namespace binding, useful for printout and querying\n",
    "g.bind('owl', OWL)\n",
    "g.bind('', SC_FILE)\n",
    "g.bind('sc', SCO)\n",
    "g.bind('spl', SPL)\n",
    "g.bind('loc', SPL_LOC)\n",
    "\n",
    "#load the actual data\n",
    "g.parse(SEMCON_URL+\"usage\", format=\"trig\")\n",
    "\n",
    "#print the number of RDF triples\n",
    "print(len(g))"
   ]
  },
  {
   "cell_type": "markdown",
   "metadata": {},
   "source": [
    "First thing first, we will have a look on the policy"
   ]
  },
  {
   "cell_type": "code",
   "execution_count": 19,
   "metadata": {},
   "outputs": [
    {
     "name": "stdout",
     "output_type": "stream",
     "text": [
      "@prefix : <https://vownyourdata.zamg.ac.at:9505/api/meta/> .\n",
      "@prefix loc: <http://www.specialprivacy.eu/vocabs/locations#> .\n",
      "@prefix owl: <http://www.w3.org/2002/07/owl#> .\n",
      "@prefix rdf: <http://www.w3.org/1999/02/22-rdf-syntax-ns#> .\n",
      "@prefix rdfs: <http://www.w3.org/2000/01/rdf-schema#> .\n",
      "@prefix sc: <http://w3id.org/semcon/ns/ontology#> .\n",
      "@prefix spl: <http://www.specialprivacy.eu/langs/usage-policy#> .\n",
      "@prefix xml: <http://www.w3.org/XML/1998/namespace> .\n",
      "@prefix xsd: <http://www.w3.org/2001/XMLSchema#> .\n",
      "\n",
      "sc:UsagePolicy {\n",
      "    :ContainerPolicy a owl:Class ;\n",
      "        owl:equivalentClass [ a owl:Class ;\n",
      "                owl:intersectionOf ( [ a owl:Restriction ;\n",
      "                            owl:onProperty spl:hasData ;\n",
      "                            owl:someValuesFrom spl:AnyData ] [ a owl:Restriction ;\n",
      "                            owl:onProperty spl:hasProcessing ;\n",
      "                            owl:someValuesFrom spl:AnyProcessing ] [ a owl:Restriction ;\n",
      "                            owl:onProperty spl:hasPurpose ;\n",
      "                            owl:someValuesFrom spl:AnyPurpose ] [ a owl:Restriction ;\n",
      "                            owl:onProperty spl:hasRecipient ;\n",
      "                            owl:someValuesFrom spl:AnyRecipient ] [ a owl:Restriction ;\n",
      "                            owl:onProperty spl:hasStorage ;\n",
      "                            owl:someValuesFrom [ owl:intersectionOf ( [ a owl:Restriction ;\n",
      "                                                owl:onProperty spl:hasLocation ;\n",
      "                                                owl:someValuesFrom spl:AnyLocation ] [ a owl:Restriction ;\n",
      "                                                owl:onProperty spl:hasDuration ;\n",
      "                                                owl:someValuesFrom spl:AnyDuration ] ) ] ] ) ] .\n",
      "}\n",
      "\n",
      "\n"
     ]
    }
   ],
   "source": [
    "# print some human-readable serialization\n",
    "print(g.serialize(format=\"trig\").decode(\"utf-8\"))"
   ]
  },
  {
   "cell_type": "markdown",
   "metadata": {},
   "source": [
    "The policy is defined using OWL vocabulary as a set of restriction on each aspect : Data policy, Processing policy, purpose, recipient, and storage (which contain location and duration).\n",
    "\n",
    "instead of 'pretty' format above, we can also see how it look as list of triples of subject, predicate, and object"
   ]
  },
  {
   "cell_type": "code",
   "execution_count": 26,
   "metadata": {},
   "outputs": [
    {
     "name": "stdout",
     "output_type": "stream",
     "text": [
      "_:n4 <http://www.w3.org/2002/07/owl#onProperty> <http://www.specialprivacy.eu/langs/usage-policy#hasPurpose> .\n",
      "_:n6 <http://www.w3.org/1999/02/22-rdf-syntax-ns#type> <http://www.w3.org/2002/07/owl#Restriction> .\n",
      "_:n6 <http://www.w3.org/2002/07/owl#onProperty> <http://www.specialprivacy.eu/langs/usage-policy#hasStorage> .\n",
      "_:n12 <http://www.w3.org/1999/02/22-rdf-syntax-ns#first> _:n2 .\n",
      "_:n3 <http://www.w3.org/2002/07/owl#onProperty> <http://www.specialprivacy.eu/langs/usage-policy#hasProcessing> .\n",
      "_:n16 <http://www.w3.org/1999/02/22-rdf-syntax-ns#rest> <http://www.w3.org/1999/02/22-rdf-syntax-ns#nil> .\n",
      "_:n5 <http://www.w3.org/2002/07/owl#someValuesFrom> <http://www.specialprivacy.eu/langs/usage-policy#AnyRecipient> .\n",
      "<https://vownyourdata.zamg.ac.at:9505/api/meta/ContainerPolicy> <http://www.w3.org/2002/07/owl#equivalentClass> _:n1 .\n",
      "_:n6 <http://www.w3.org/2002/07/owl#someValuesFrom> _:n7 .\n",
      "_:n9 <http://www.w3.org/2002/07/owl#onProperty> <http://www.specialprivacy.eu/langs/usage-policy#hasDuration> .\n",
      "_:n5 <http://www.w3.org/1999/02/22-rdf-syntax-ns#type> <http://www.w3.org/2002/07/owl#Restriction> .\n",
      "_:n8 <http://www.w3.org/2002/07/owl#onProperty> <http://www.specialprivacy.eu/langs/usage-policy#hasLocation> .\n",
      "_:n13 <http://www.w3.org/1999/02/22-rdf-syntax-ns#first> _:n3 .\n",
      "_:n1 <http://www.w3.org/2002/07/owl#intersectionOf> _:n12 .\n",
      "_:n4 <http://www.w3.org/1999/02/22-rdf-syntax-ns#type> <http://www.w3.org/2002/07/owl#Restriction> .\n",
      "_:n2 <http://www.w3.org/1999/02/22-rdf-syntax-ns#type> <http://www.w3.org/2002/07/owl#Restriction> .\n",
      "_:n9 <http://www.w3.org/2002/07/owl#someValuesFrom> <http://www.specialprivacy.eu/langs/usage-policy#AnyDuration> .\n",
      "_:n7 <http://www.w3.org/2002/07/owl#intersectionOf> _:n10 .\n",
      "_:n15 <http://www.w3.org/1999/02/22-rdf-syntax-ns#first> _:n5 .\n",
      "_:n1 <http://www.w3.org/1999/02/22-rdf-syntax-ns#type> <http://www.w3.org/2002/07/owl#Class> .\n",
      "_:n11 <http://www.w3.org/1999/02/22-rdf-syntax-ns#rest> <http://www.w3.org/1999/02/22-rdf-syntax-ns#nil> .\n",
      "_:n11 <http://www.w3.org/1999/02/22-rdf-syntax-ns#first> _:n9 .\n",
      "_:n8 <http://www.w3.org/1999/02/22-rdf-syntax-ns#type> <http://www.w3.org/2002/07/owl#Restriction> .\n",
      "_:n3 <http://www.w3.org/1999/02/22-rdf-syntax-ns#type> <http://www.w3.org/2002/07/owl#Restriction> .\n",
      "_:n4 <http://www.w3.org/2002/07/owl#someValuesFrom> <http://www.specialprivacy.eu/langs/usage-policy#AnyPurpose> .\n",
      "_:n5 <http://www.w3.org/2002/07/owl#onProperty> <http://www.specialprivacy.eu/langs/usage-policy#hasRecipient> .\n",
      "_:n10 <http://www.w3.org/1999/02/22-rdf-syntax-ns#first> _:n8 .\n",
      "_:n13 <http://www.w3.org/1999/02/22-rdf-syntax-ns#rest> _:n14 .\n",
      "_:n14 <http://www.w3.org/1999/02/22-rdf-syntax-ns#rest> _:n15 .\n",
      "<https://vownyourdata.zamg.ac.at:9505/api/meta/ContainerPolicy> <http://www.w3.org/1999/02/22-rdf-syntax-ns#type> <http://www.w3.org/2002/07/owl#Class> .\n",
      "_:n14 <http://www.w3.org/1999/02/22-rdf-syntax-ns#first> _:n4 .\n",
      "_:n12 <http://www.w3.org/1999/02/22-rdf-syntax-ns#rest> _:n13 .\n",
      "_:n2 <http://www.w3.org/2002/07/owl#someValuesFrom> <http://www.specialprivacy.eu/langs/usage-policy#AnyData> .\n",
      "_:n15 <http://www.w3.org/1999/02/22-rdf-syntax-ns#rest> _:n16 .\n",
      "_:n10 <http://www.w3.org/1999/02/22-rdf-syntax-ns#rest> _:n11 .\n",
      "_:n3 <http://www.w3.org/2002/07/owl#someValuesFrom> <http://www.specialprivacy.eu/langs/usage-policy#AnyProcessing> .\n",
      "_:n9 <http://www.w3.org/1999/02/22-rdf-syntax-ns#type> <http://www.w3.org/2002/07/owl#Restriction> .\n",
      "_:n16 <http://www.w3.org/1999/02/22-rdf-syntax-ns#first> _:n6 .\n",
      "_:n2 <http://www.w3.org/2002/07/owl#onProperty> <http://www.specialprivacy.eu/langs/usage-policy#hasData> .\n",
      "_:n8 <http://www.w3.org/2002/07/owl#someValuesFrom> <http://www.specialprivacy.eu/langs/usage-policy#AnyLocation> .\n",
      "\n",
      "\n"
     ]
    }
   ],
   "source": [
    "# print list of triples\n",
    "print(g.serialize(format=\"nt\").decode(\"utf-8\"))"
   ]
  },
  {
   "cell_type": "markdown",
   "metadata": {},
   "source": [
    "In order to extract information from the graph, we will use SPARQL query on the graph. "
   ]
  },
  {
   "cell_type": "code",
   "execution_count": 23,
   "metadata": {},
   "outputs": [
    {
     "name": "stdout",
     "output_type": "stream",
     "text": [
      "(rdflib.term.URIRef('http://www.specialprivacy.eu/langs/usage-policy#AnyLocation'),)\n"
     ]
    }
   ],
   "source": [
    "qloc = \"\"\"\n",
    "SELECT ?q \n",
    "WHERE { \n",
    "?policy a owl:Class; owl:equivalentClass [\n",
    "    owl:intersectionOf ?i\n",
    "    ].\n",
    "?i rdf:rest*/rdf:first [\n",
    "    owl:onProperty spl:hasStorage;\n",
    "    owl:someValuesFrom/owl:intersectionOf ?s\n",
    "    ].\n",
    "?s rdf:rest*/rdf:first [\n",
    "    owl:onProperty spl:hasLocation;\n",
    "    owl:someValuesFrom ?q\n",
    "    ].\n",
    "}\"\"\"\n",
    "q = g.query(qloc)\n",
    "for s in q:\n",
    "    print(s)"
   ]
  },
  {
   "cell_type": "code",
   "execution_count": 25,
   "metadata": {},
   "outputs": [
    {
     "name": "stdout",
     "output_type": "stream",
     "text": [
      "http://www.specialprivacy.eu/langs/usage-policy#AnyLocation\n"
     ]
    }
   ],
   "source": [
    "qunion = \"\"\"\n",
    "SELECT ?q \n",
    "WHERE { \n",
    "?policy a owl:Class; owl:equivalentClass [\n",
    "    owl:intersectionOf ?i\n",
    "    ].\n",
    "?i rdf:rest*/rdf:first [\n",
    "    owl:onProperty spl:hasStorage;\n",
    "    owl:someValuesFrom/owl:intersectionOf ?s\n",
    "    ].\n",
    "?s rdf:rest*/rdf:first [\n",
    "    owl:onProperty spl:hasLocation;\n",
    "    owl:someValuesFrom/owl:unionOf ?l\n",
    "    ].\n",
    "?l rdf:rest*/rdf:first ?q.\n",
    "}\n",
    "\"\"\"\n",
    "r = list(q)\n",
    "#check if the returned object is a union or not\n",
    "if isinstance(r[0][0], URIRef):\n",
    "    print(r[0][0])\n",
    "else:\n",
    "    loc = g.query(qunion)\n",
    "    for l in loc:\n",
    "        print(l[0])"
   ]
  }
 ],
 "metadata": {
  "kernelspec": {
   "display_name": "Python 3",
   "language": "python",
   "name": "python3"
  },
  "language_info": {
   "codemirror_mode": {
    "name": "ipython",
    "version": 3
   },
   "file_extension": ".py",
   "mimetype": "text/x-python",
   "name": "python",
   "nbconvert_exporter": "python",
   "pygments_lexer": "ipython3",
   "version": "3.7.1"
  }
 },
 "nbformat": 4,
 "nbformat_minor": 2
}
